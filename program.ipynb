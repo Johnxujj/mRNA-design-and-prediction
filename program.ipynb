{
 "cells": [
  {
   "cell_type": "markdown",
   "id": "0a37a50d",
   "metadata": {},
   "source": [
    "# Design an mRNA for eGFP."
   ]
  },
  {
   "cell_type": "markdown",
   "id": "dd444e15",
   "metadata": {},
   "source": [
    "Jiajie Xu 19Nov22"
   ]
  },
  {
   "cell_type": "markdown",
   "id": "74c4a236",
   "metadata": {},
   "source": [
    "# Overview"
   ]
  },
  {
   "cell_type": "markdown",
   "id": "55447d76",
   "metadata": {},
   "source": [
    "## Business Problem"
   ]
  },
  {
   "cell_type": "markdown",
   "id": "eb6ce998",
   "metadata": {},
   "source": [
    "Design mRNA is becoming hotest topic ever since pandemic. Using target protein reverse translate to a mRNA is facing difficulty due to computational cost and principles in biology design. Optimization of mRNA sequence is highly necessary. Less binging can reduce expand speed and increase mRNA translation efficiency. It will help reduce dose amount per injection and achieve samilar immune system response. Also, it may help reduce symptoms and uncomfort after vaccination.Therefore, there is a great commercial motivation for biopharma companies developing their own design algorithm. "
   ]
  },
  {
   "cell_type": "markdown",
   "id": "0b1c021f",
   "metadata": {},
   "source": [
    "# Data Loading and cleaning"
   ]
  },
  {
   "cell_type": "code",
   "execution_count": 1,
   "id": "a48d6bcd",
   "metadata": {},
   "outputs": [],
   "source": [
    "import numpy as np\n",
    "import pandas as pd\n",
    "import sys, re\n",
    "from difflib import SequenceMatcher\n",
    "import re\n",
    "import warnings\n",
    "warnings.filterwarnings('ignore')\n",
    "%config Completer.use_jedi = False \n",
    "import os\n",
    "# !pip install biopython\n",
    "from Bio.Seq import Seq\n",
    "from Bio import motifs\n",
    "from collections import defaultdict\n",
    "from tqdm._tqdm_notebook import tqdm_notebook\n",
    "tqdm_notebook.pandas()\n",
    "from transformers import AutoTokenizer,TFBertModel\n",
    "from sklearn.model_selection import train_test_split, KFold\n",
    "import pydot\n",
    "import matplotlib.pyplot as plt\n",
    "import tensorflow as tf"
   ]
  },
  {
   "cell_type": "markdown",
   "id": "55dbb16a",
   "metadata": {},
   "source": [
    "## Import reference table for codon usage. "
   ]
  },
  {
   "cell_type": "markdown",
   "id": "475b6037",
   "metadata": {},
   "source": [
    "For taget protein eFPG, it has been used in rattus norvegicus most often. Thus, here we decide to refer to Mus codon usage table to more close the the host live enviroment. "
   ]
  },
  {
   "cell_type": "code",
   "execution_count": 2,
   "id": "b64271a0",
   "metadata": {
    "scrolled": true
   },
   "outputs": [],
   "source": [
    "df = pd.read_excel('codon_usage_rattus.xlsx')"
   ]
  },
  {
   "cell_type": "code",
   "execution_count": 3,
   "id": "afa96a14",
   "metadata": {},
   "outputs": [
    {
     "data": {
      "text/html": [
       "<div>\n",
       "<style scoped>\n",
       "    .dataframe tbody tr th:only-of-type {\n",
       "        vertical-align: middle;\n",
       "    }\n",
       "\n",
       "    .dataframe tbody tr th {\n",
       "        vertical-align: top;\n",
       "    }\n",
       "\n",
       "    .dataframe thead th {\n",
       "        text-align: right;\n",
       "    }\n",
       "</style>\n",
       "<table border=\"1\" class=\"dataframe\">\n",
       "  <thead>\n",
       "    <tr style=\"text-align: right;\">\n",
       "      <th></th>\n",
       "      <th>Codon</th>\n",
       "      <th>amino acid</th>\n",
       "      <th>frequency</th>\n",
       "    </tr>\n",
       "  </thead>\n",
       "  <tbody>\n",
       "    <tr>\n",
       "      <th>0</th>\n",
       "      <td>UUU</td>\n",
       "      <td>F</td>\n",
       "      <td>17.6</td>\n",
       "    </tr>\n",
       "    <tr>\n",
       "      <th>1</th>\n",
       "      <td>UUC</td>\n",
       "      <td>F</td>\n",
       "      <td>24.7</td>\n",
       "    </tr>\n",
       "    <tr>\n",
       "      <th>2</th>\n",
       "      <td>UUA</td>\n",
       "      <td>L</td>\n",
       "      <td>5.0</td>\n",
       "    </tr>\n",
       "    <tr>\n",
       "      <th>3</th>\n",
       "      <td>UUG</td>\n",
       "      <td>L</td>\n",
       "      <td>12.2</td>\n",
       "    </tr>\n",
       "    <tr>\n",
       "      <th>4</th>\n",
       "      <td>CUU</td>\n",
       "      <td>L</td>\n",
       "      <td>11.1</td>\n",
       "    </tr>\n",
       "    <tr>\n",
       "      <th>...</th>\n",
       "      <td>...</td>\n",
       "      <td>...</td>\n",
       "      <td>...</td>\n",
       "    </tr>\n",
       "    <tr>\n",
       "      <th>59</th>\n",
       "      <td>AGG</td>\n",
       "      <td>R</td>\n",
       "      <td>10.7</td>\n",
       "    </tr>\n",
       "    <tr>\n",
       "      <th>60</th>\n",
       "      <td>GGU</td>\n",
       "      <td>G</td>\n",
       "      <td>12.6</td>\n",
       "    </tr>\n",
       "    <tr>\n",
       "      <th>61</th>\n",
       "      <td>GGC</td>\n",
       "      <td>G</td>\n",
       "      <td>24.2</td>\n",
       "    </tr>\n",
       "    <tr>\n",
       "      <th>62</th>\n",
       "      <td>GGA</td>\n",
       "      <td>G</td>\n",
       "      <td>16.3</td>\n",
       "    </tr>\n",
       "    <tr>\n",
       "      <th>63</th>\n",
       "      <td>GGG</td>\n",
       "      <td>G</td>\n",
       "      <td>15.4</td>\n",
       "    </tr>\n",
       "  </tbody>\n",
       "</table>\n",
       "<p>64 rows × 3 columns</p>\n",
       "</div>"
      ],
      "text/plain": [
       "   Codon amino acid  frequency\n",
       "0    UUU          F       17.6\n",
       "1    UUC          F       24.7\n",
       "2    UUA          L        5.0\n",
       "3    UUG          L       12.2\n",
       "4    CUU          L       11.1\n",
       "..   ...        ...        ...\n",
       "59   AGG          R       10.7\n",
       "60   GGU          G       12.6\n",
       "61   GGC          G       24.2\n",
       "62   GGA          G       16.3\n",
       "63   GGG          G       15.4\n",
       "\n",
       "[64 rows x 3 columns]"
      ]
     },
     "metadata": {},
     "output_type": "display_data"
    }
   ],
   "source": [
    "display(df)"
   ]
  },
  {
   "cell_type": "code",
   "execution_count": 4,
   "id": "caa410cf",
   "metadata": {},
   "outputs": [
    {
     "name": "stdout",
     "output_type": "stream",
     "text": [
      "<class 'pandas.core.frame.DataFrame'>\n",
      "RangeIndex: 64 entries, 0 to 63\n",
      "Data columns (total 3 columns):\n",
      " #   Column      Non-Null Count  Dtype  \n",
      "---  ------      --------------  -----  \n",
      " 0   Codon       64 non-null     object \n",
      " 1   amino acid  64 non-null     object \n",
      " 2   frequency   64 non-null     float64\n",
      "dtypes: float64(1), object(2)\n",
      "memory usage: 1.6+ KB\n"
     ]
    }
   ],
   "source": [
    "df.info()"
   ]
  },
  {
   "cell_type": "code",
   "execution_count": 5,
   "id": "a0e5c8de",
   "metadata": {},
   "outputs": [
    {
     "data": {
      "text/html": [
       "<div>\n",
       "<style scoped>\n",
       "    .dataframe tbody tr th:only-of-type {\n",
       "        vertical-align: middle;\n",
       "    }\n",
       "\n",
       "    .dataframe tbody tr th {\n",
       "        vertical-align: top;\n",
       "    }\n",
       "\n",
       "    .dataframe thead th {\n",
       "        text-align: right;\n",
       "    }\n",
       "</style>\n",
       "<table border=\"1\" class=\"dataframe\">\n",
       "  <thead>\n",
       "    <tr style=\"text-align: right;\">\n",
       "      <th></th>\n",
       "      <th>Codon</th>\n",
       "      <th>amino acid</th>\n",
       "      <th>frequency</th>\n",
       "    </tr>\n",
       "  </thead>\n",
       "  <tbody>\n",
       "    <tr>\n",
       "      <th>50</th>\n",
       "      <td>UGA</td>\n",
       "      <td>*</td>\n",
       "      <td>1.2</td>\n",
       "    </tr>\n",
       "    <tr>\n",
       "      <th>35</th>\n",
       "      <td>UAG</td>\n",
       "      <td>*</td>\n",
       "      <td>0.5</td>\n",
       "    </tr>\n",
       "    <tr>\n",
       "      <th>34</th>\n",
       "      <td>UAA</td>\n",
       "      <td>*</td>\n",
       "      <td>0.9</td>\n",
       "    </tr>\n",
       "    <tr>\n",
       "      <th>31</th>\n",
       "      <td>GCG</td>\n",
       "      <td>A</td>\n",
       "      <td>6.9</td>\n",
       "    </tr>\n",
       "    <tr>\n",
       "      <th>30</th>\n",
       "      <td>GCA</td>\n",
       "      <td>A</td>\n",
       "      <td>13.7</td>\n",
       "    </tr>\n",
       "    <tr>\n",
       "      <th>...</th>\n",
       "      <td>...</td>\n",
       "      <td>...</td>\n",
       "      <td>...</td>\n",
       "    </tr>\n",
       "    <tr>\n",
       "      <th>14</th>\n",
       "      <td>GUA</td>\n",
       "      <td>V</td>\n",
       "      <td>6.4</td>\n",
       "    </tr>\n",
       "    <tr>\n",
       "      <th>12</th>\n",
       "      <td>GUU</td>\n",
       "      <td>V</td>\n",
       "      <td>10.6</td>\n",
       "    </tr>\n",
       "    <tr>\n",
       "      <th>51</th>\n",
       "      <td>UGG</td>\n",
       "      <td>W</td>\n",
       "      <td>12.3</td>\n",
       "    </tr>\n",
       "    <tr>\n",
       "      <th>32</th>\n",
       "      <td>UAU</td>\n",
       "      <td>Y</td>\n",
       "      <td>11.6</td>\n",
       "    </tr>\n",
       "    <tr>\n",
       "      <th>33</th>\n",
       "      <td>UAC</td>\n",
       "      <td>Y</td>\n",
       "      <td>18.0</td>\n",
       "    </tr>\n",
       "  </tbody>\n",
       "</table>\n",
       "<p>64 rows × 3 columns</p>\n",
       "</div>"
      ],
      "text/plain": [
       "   Codon amino acid  frequency\n",
       "50   UGA          *        1.2\n",
       "35   UAG          *        0.5\n",
       "34   UAA          *        0.9\n",
       "31   GCG          A        6.9\n",
       "30   GCA          A       13.7\n",
       "..   ...        ...        ...\n",
       "14   GUA          V        6.4\n",
       "12   GUU          V       10.6\n",
       "51   UGG          W       12.3\n",
       "32   UAU          Y       11.6\n",
       "33   UAC          Y       18.0\n",
       "\n",
       "[64 rows x 3 columns]"
      ]
     },
     "execution_count": 5,
     "metadata": {},
     "output_type": "execute_result"
    }
   ],
   "source": [
    "df.sort_values(by=['amino acid'])"
   ]
  },
  {
   "cell_type": "code",
   "execution_count": 6,
   "id": "95dea979",
   "metadata": {},
   "outputs": [],
   "source": [
    "#find most often use codon for each amino acid\n",
    "df_select = df.groupby('amino acid').apply(lambda df: df.loc[df.frequency.idxmax()])"
   ]
  },
  {
   "cell_type": "code",
   "execution_count": 7,
   "id": "d188b0fe",
   "metadata": {
    "scrolled": true
   },
   "outputs": [
    {
     "name": "stdout",
     "output_type": "stream",
     "text": [
      "<class 'pandas.core.frame.DataFrame'>\n",
      "Index: 21 entries, * to Y\n",
      "Data columns (total 3 columns):\n",
      " #   Column      Non-Null Count  Dtype  \n",
      "---  ------      --------------  -----  \n",
      " 0   Codon       21 non-null     object \n",
      " 1   amino acid  21 non-null     object \n",
      " 2   frequency   21 non-null     float64\n",
      "dtypes: float64(1), object(2)\n",
      "memory usage: 672.0+ bytes\n"
     ]
    }
   ],
   "source": [
    "df_select.info()"
   ]
  },
  {
   "cell_type": "code",
   "execution_count": 8,
   "id": "a879125f",
   "metadata": {},
   "outputs": [
    {
     "data": {
      "text/plain": [
       "amino acid\n",
       "*    UGA\n",
       "A    GCC\n",
       "C    UGC\n",
       "D    GAC\n",
       "E    GAG\n",
       "F    UUC\n",
       "G    GGC\n",
       "H    CAC\n",
       "I    AUC\n",
       "K    AAG\n",
       "L    CUG\n",
       "M    AUG\n",
       "N    AAC\n",
       "P    CCC\n",
       "Q    CAG\n",
       "R    CGC\n",
       "S    UCC\n",
       "T    ACC\n",
       "V    GUG\n",
       "W    UGG\n",
       "Y    UAC\n",
       "Name: Codon, dtype: object"
      ]
     },
     "execution_count": 8,
     "metadata": {},
     "output_type": "execute_result"
    }
   ],
   "source": [
    "df_select['Codon']"
   ]
  },
  {
   "cell_type": "code",
   "execution_count": 9,
   "id": "600512ff",
   "metadata": {},
   "outputs": [],
   "source": [
    "# create both translation and reverse translation dictionary\n",
    "codon_dict = df_select.set_index('amino acid').to_dict()['Codon']\n",
    "rev_codon_dict = df.set_index('Codon').to_dict()['amino acid']"
   ]
  },
  {
   "cell_type": "markdown",
   "id": "0e443302",
   "metadata": {},
   "source": [
    "## Import eFPG sequence from vendor product specification"
   ]
  },
  {
   "cell_type": "code",
   "execution_count": 10,
   "id": "29fc86ac",
   "metadata": {},
   "outputs": [],
   "source": [
    "# mRNA sequence from https://www.trilinkbiotech.com/cleancap-egfp-mrna.html\n",
    "online = 'AUGGUGAGCAAGGGCGAGGAGCUGUUCACCGGGGUGGUGCCCAUCCUGGUCGAGCUGGACGGCGACGUAAACGGCCACAAGUUCAGCGUGUCCGGCGAGGGCGAGGGCGAUGCCACCUACGGCAAGCUGACCCUGAAGUUCAUCUGCACCACCGGCAAGCUGCCCGUGCCCUGGCCCACCCUCGUGACCACCCUGACCUACGGCGUGCAGUGCUUCAGCCGCUACCCCGACCACAUGAAGCAGCACGACUUCUUCAAGUCCGCCAUGCCCGAAGGCUACGUCCAGGAGCGCACCAUCUUCUUCAAGGACGACGGCAACUACAAGACCCGCGCCGAGGUGAAGUUCGAGGGCGACACCCUGGUGAACCGCAUCGAGCUGAAGGGCAUCGACUUCAAGGAGGACGGCAACAUCCUGGGGCACAAGCUGGAGUACAACUACAACAGCCACAACGUCUAUAUCAUGGCCGACAAGCAGAAGAACGGCAUCAAGGUGAACUUCAAGAUCCGCCACAACAUCGAGGACGGCAGCGUGCAGCUCGCCGACCACUACCAGCAGAACACCCCCAUCGGCGACGGCCCCGUGCUGCUGCCCGACAACCACUACCUGAGCACCCAGUCCGCCCUGAGCAAAGACCCCAACGAGAAGCGCGAUCACAUGGUCCUGCUGGAGUUCGUGACCGCCGCCGGGAUCACUCUCGGCAUGGACGAGCUGUACAAGUAA'"
   ]
  },
  {
   "cell_type": "code",
   "execution_count": 11,
   "id": "7b2a5556",
   "metadata": {},
   "outputs": [
    {
     "ename": "NameError",
     "evalue": "name 'rev_protein' is not defined",
     "output_type": "error",
     "traceback": [
      "\u001b[1;31m---------------------------------------------------------------------------\u001b[0m",
      "\u001b[1;31mNameError\u001b[0m                                 Traceback (most recent call last)",
      "\u001b[1;32m~\\AppData\\Local\\Temp/ipykernel_13336/3194238051.py\u001b[0m in \u001b[0;36m<module>\u001b[1;34m\u001b[0m\n\u001b[1;32m----> 1\u001b[1;33m \u001b[0mrev_protein\u001b[0m\u001b[1;33m\u001b[0m\u001b[1;33m\u001b[0m\u001b[0m\n\u001b[0m",
      "\u001b[1;31mNameError\u001b[0m: name 'rev_protein' is not defined"
     ]
    }
   ],
   "source": [
    "rev_protein"
   ]
  },
  {
   "cell_type": "code",
   "execution_count": null,
   "id": "a4e460cd",
   "metadata": {},
   "outputs": [],
   "source": [
    "new_mRNA = ''\n",
    "for i in range(len(rev_protein)):\n",
    "    new_mRNA = new_mRNA + codon_dict.get(rev_protein[i])"
   ]
  },
  {
   "cell_type": "code",
   "execution_count": null,
   "id": "3c400238",
   "metadata": {
    "scrolled": true
   },
   "outputs": [],
   "source": [
    "rev_protein = ''\n",
    "res = [online[i:i+3] for i in range(0,len(online),3)]\n",
    "for x in range(len(res)):\n",
    "    rev_protein = rev_protein + rev_codon_dict.get(res[x])"
   ]
  },
  {
   "cell_type": "code",
   "execution_count": null,
   "id": "3f6e9a4d",
   "metadata": {},
   "outputs": [],
   "source": [
    "new_mRNA"
   ]
  },
  {
   "cell_type": "markdown",
   "id": "377af756",
   "metadata": {},
   "source": [
    "## Verify the similarity of new design mRNA"
   ]
  },
  {
   "cell_type": "code",
   "execution_count": null,
   "id": "5cecdec8",
   "metadata": {},
   "outputs": [],
   "source": [
    "# calculate similarity of new design mRNA with original mRNA\n",
    "def similar(a, b):\n",
    "    return SequenceMatcher(None, a, b).ratio()\n",
    "similar('online','new_mRNA')"
   ]
  },
  {
   "cell_type": "code",
   "execution_count": null,
   "id": "3b98cc98",
   "metadata": {},
   "outputs": [],
   "source": [
    "similar('online','new_mRNA')"
   ]
  },
  {
   "cell_type": "markdown",
   "id": "cd31c1c2",
   "metadata": {},
   "source": [
    "## Output target mRNA "
   ]
  },
  {
   "cell_type": "code",
   "execution_count": null,
   "id": "cd067a02",
   "metadata": {},
   "outputs": [],
   "source": [
    "# protrin sequence fetch from PDB online, use method to reverse translate mRNA\n",
    "f=open('rcsb_pdb_6YLQ.fasta.','r')\n",
    "lines=f.readlines()\n",
    "protein = lines[1].rstrip('\\n')\n",
    "mRNA = ''\n",
    "for i in range(len(protein)):\n",
    "    mRNA = mRNA + codon_dict.get(protein[i])\n",
    "mRNA"
   ]
  },
  {
   "cell_type": "markdown",
   "id": "ce2a407b",
   "metadata": {},
   "source": [
    "# Discussion and tryout for introduce modeling"
   ]
  },
  {
   "cell_type": "code",
   "execution_count": null,
   "id": "fe599383",
   "metadata": {},
   "outputs": [],
   "source": [
    "txt_file = open(\"protein.txt\", \"r\")\n",
    "file_content = txt_file.read()\n",
    "file_content= file_content.replace('\\n',\"\")\n",
    "protein_txt = file_content.split(\">lcl|\")\n",
    "protein_txt = protein_txt[1:]\n",
    "\n",
    "txt_file = open(\"mRNA.txt\", \"r\")\n",
    "file_content = txt_file.read()\n",
    "file_content= file_content.replace('\\n',\"\")\n",
    "mRNA_txt = file_content.split(\">lcl|\")\n",
    "mRNA_txt = mRNA_txt[1:]"
   ]
  },
  {
   "cell_type": "code",
   "execution_count": null,
   "id": "0da7e53d",
   "metadata": {},
   "outputs": [],
   "source": [
    "def char_frequency(str1):\n",
    "    dict = {}\n",
    "    for n in str1:\n",
    "        keys = dict.keys()\n",
    "        if n in keys:\n",
    "            dict[n] += 1\n",
    "        else:\n",
    "            dict[n] = 1\n",
    "    return dict"
   ]
  },
  {
   "cell_type": "code",
   "execution_count": null,
   "id": "7e2dfad5",
   "metadata": {},
   "outputs": [],
   "source": [
    "# protein_txt"
   ]
  },
  {
   "cell_type": "code",
   "execution_count": null,
   "id": "a6653cf1",
   "metadata": {},
   "outputs": [],
   "source": [
    "def data_clean(sequence, value):\n",
    "    x = []\n",
    "    y = []\n",
    "    for i in range(len(sequence)):\n",
    "        sequence[i] = sequence[i].split()      \n",
    "        for j in range(len(sequence[i])):\n",
    "            substring = \"protein_id=\"\n",
    "            if substring in sequence[i][j]:\n",
    "                sequence[i][j]=sequence[i][j].replace(\"]\",\"\")\n",
    "                arr1 = sequence[i][j].split(\"=\")[1]\n",
    "        arr2 = sequence[i][-1].split(\"]\")[1]\n",
    "        x.append(arr1)\n",
    "        y.append(arr2)\n",
    "        myDict = {\"proteinID\":x,\n",
    "                   value:y}\n",
    "    print(myDict)\n",
    "    return(myDict)\n",
    "\n"
   ]
  },
  {
   "cell_type": "code",
   "execution_count": null,
   "id": "ba0a1939",
   "metadata": {},
   "outputs": [],
   "source": [
    "#jupyter notebook --NotebookApp.iopub_data_rate_limit=1e10 due to long output\n",
    "protein_dict = data_clean(protein_txt, \"protein_seq\")\n",
    "df1 = pd.DataFrame(protein_dict)"
   ]
  },
  {
   "cell_type": "code",
   "execution_count": null,
   "id": "fac9aab1",
   "metadata": {
    "scrolled": true
   },
   "outputs": [],
   "source": [
    "mRNA_dict = data_clean(mRNA_txt, \"mRNA_seq\")\n",
    "df2 = pd.DataFrame(mRNA_dict)"
   ]
  },
  {
   "cell_type": "code",
   "execution_count": null,
   "id": "20f5e460",
   "metadata": {},
   "outputs": [],
   "source": [
    "df_cleandata = pd.merge(df1, df2, on=\"proteinID\")"
   ]
  },
  {
   "cell_type": "code",
   "execution_count": null,
   "id": "2f7d874a",
   "metadata": {},
   "outputs": [],
   "source": [
    "df_cleandata"
   ]
  },
  {
   "cell_type": "code",
   "execution_count": null,
   "id": "9995d465",
   "metadata": {},
   "outputs": [],
   "source": [
    "def percentageLetter(self, s: str, letter: str) -> int:\n",
    "    n = len(s)\n",
    "    ctr = 0\n",
    "    for c in s:\n",
    "        if c == letter:\n",
    "            ctr += 1\n",
    "    return floor(100 * ctr / n)"
   ]
  },
  {
   "cell_type": "code",
   "execution_count": null,
   "id": "8bacdb44",
   "metadata": {},
   "outputs": [],
   "source": [
    "df_cleandata"
   ]
  },
  {
   "cell_type": "markdown",
   "id": "2a0b6c4a",
   "metadata": {},
   "source": [
    "Drop less important value"
   ]
  },
  {
   "cell_type": "code",
   "execution_count": null,
   "id": "f6352531",
   "metadata": {},
   "outputs": [],
   "source": [
    "df_cleandata = df_cleandata.drop([\"proteinID\"], axis=1)"
   ]
  },
  {
   "cell_type": "code",
   "execution_count": null,
   "id": "e4da9304",
   "metadata": {},
   "outputs": [],
   "source": [
    "# df_cleandata.isna().sum() "
   ]
  },
  {
   "cell_type": "markdown",
   "id": "d47dbe8d",
   "metadata": {},
   "source": [
    "## Adding more parameters for features need."
   ]
  },
  {
   "cell_type": "markdown",
   "id": "0c409e1d",
   "metadata": {},
   "source": [
    "data filter for simplicity "
   ]
  },
  {
   "cell_type": "code",
   "execution_count": null,
   "id": "5952b83f",
   "metadata": {},
   "outputs": [],
   "source": [
    "#A_percent\n",
    "df_cleandata['A'] = df_cleandata['mRNA_seq'].apply(lambda x: str(x).count(\"A\")/len(str(x)))\n",
    "# s.count(letter)/len(s)\n",
    "\n",
    "#T_percent\n",
    "df_cleandata['T'] = df_cleandata['mRNA_seq'].apply(lambda x: str(x).count(\"T\")/len(str(x)))\n",
    "\n",
    "#C_percent\n",
    "df_cleandata['C'] = df_cleandata['mRNA_seq'].apply(lambda x: str(x).count(\"C\")/len(str(x)))\n",
    "\n",
    "#G_percent\n",
    "df_cleandata['G'] = df_cleandata['mRNA_seq'].apply(lambda x: str(x).count(\"G\")/len(str(x)))\n",
    "\n",
    "#protein_length\n",
    "df_cleandata['protein_len'] = df_cleandata['protein_seq'].apply(lambda x: len(str(x)))\n",
    "\n",
    "#mRNA_length\n",
    "df_cleandata['mRNA_len'] = df_cleandata['mRNA_seq'].apply(lambda x: len(str(x)))"
   ]
  },
  {
   "cell_type": "code",
   "execution_count": null,
   "id": "3451df9a",
   "metadata": {},
   "outputs": [],
   "source": [
    "#cut-off range\n",
    "X_cut = df_cleandata.mRNA_len.mean() - 1 * df_cleandata.mRNA_len.std()"
   ]
  },
  {
   "cell_type": "code",
   "execution_count": null,
   "id": "3b240689",
   "metadata": {},
   "outputs": [],
   "source": [
    "X_cut = int((X_cut//3)*3)"
   ]
  },
  {
   "cell_type": "code",
   "execution_count": null,
   "id": "d99e1c2b",
   "metadata": {},
   "outputs": [],
   "source": [
    "X_cut"
   ]
  },
  {
   "cell_type": "code",
   "execution_count": null,
   "id": "3c31bbeb",
   "metadata": {},
   "outputs": [],
   "source": [
    "#To reduce cal time, use 30 instead of 486\n",
    "df_cleandata = df_cleandata[df_cleandata.mRNA_len > 30]\n",
    "# df_cleandata = df_cleandata[df_cleandata.mRNA_len > X_cut]"
   ]
  },
  {
   "cell_type": "code",
   "execution_count": null,
   "id": "12f7fe0e",
   "metadata": {},
   "outputs": [],
   "source": [
    "# df_cleandata"
   ]
  },
  {
   "cell_type": "code",
   "execution_count": null,
   "id": "b87dcbfa",
   "metadata": {},
   "outputs": [],
   "source": [
    "# print(df_cleandata.mRNA_seq.str[:X_cut])\n",
    "print(df_cleandata.mRNA_seq.str[:30])"
   ]
  },
  {
   "cell_type": "code",
   "execution_count": null,
   "id": "2485ba22",
   "metadata": {},
   "outputs": [],
   "source": [
    "# df_cleandata.mRNA_seq = df_cleandata.mRNA_seq.str[:X_cut]\n",
    "df_cleandata.mRNA_seq = df_cleandata.mRNA_seq.str[:30]"
   ]
  },
  {
   "cell_type": "code",
   "execution_count": null,
   "id": "cc180121",
   "metadata": {},
   "outputs": [],
   "source": [
    "df_cleandata"
   ]
  },
  {
   "cell_type": "markdown",
   "id": "87084cf0",
   "metadata": {},
   "source": [
    "## Some testing for Position-specific Scoring Matrices model"
   ]
  },
  {
   "cell_type": "code",
   "execution_count": null,
   "id": "3cf467dd",
   "metadata": {},
   "outputs": [],
   "source": [
    "sites = df_cleandata['mRNA_seq'].apply(lambda x: Seq(x))\n",
    "sites1 = [Seq('ACGTA'), Seq('TCGTA'),Seq('ACGAA')]\n",
    "motif = motifs.create(sites1)\n",
    "print(motif.counts)\n",
    "motif.degenerate_consensus\n",
    "W = motif.pssm\n",
    "print(W)\n",
    "k = len(motif.consensus)\n",
    "motif.consensus\n",
    "DNA = Seq('TCGACGTAGCGTACGATGCTAGCGATAGCTAGCTAGCTACGTGCTAGCTAGCTAG')\n",
    "for i,S in W.search(DNA):\n",
    "    print(i,S,DNA[i:i+k])\n",
    "for i,S in W.search(DNA):\n",
    "    if i<0:\n",
    "        print(len(DNA) + i,S,DNA[i:i+k].reverse_complement(),'-')\n",
    "    else:\n",
    "        print(i,S,DNA[i:i+k], '+')\n",
    "motif.pseudocounts = 1\n",
    "W = motif.pssm\n",
    "for i,S in W.search(DNA):\n",
    "    if i<0:\n",
    "        print(len(DNA) + i,S,DNA[i:i+k].reverse_complement(),'-')\n",
    "    else:\n",
    "        print(i,S,DNA[i:i+k], '+')\n",
    "print(W)\n",
    "type(W)"
   ]
  },
  {
   "cell_type": "markdown",
   "id": "0e764e5e",
   "metadata": {},
   "source": [
    "Using vector as a reference could be a better way, model will be able to including position infomation."
   ]
  }
 ],
 "metadata": {
  "kernelspec": {
   "display_name": "Python 3 (ipykernel)",
   "language": "python",
   "name": "python3"
  },
  "language_info": {
   "codemirror_mode": {
    "name": "ipython",
    "version": 3
   },
   "file_extension": ".py",
   "mimetype": "text/x-python",
   "name": "python",
   "nbconvert_exporter": "python",
   "pygments_lexer": "ipython3",
   "version": "3.9.2"
  },
  "toc": {
   "base_numbering": 1,
   "nav_menu": {},
   "number_sections": true,
   "sideBar": true,
   "skip_h1_title": false,
   "title_cell": "Table of Contents",
   "title_sidebar": "Contents",
   "toc_cell": false,
   "toc_position": {
    "height": "calc(100% - 180px)",
    "left": "10px",
    "top": "150px",
    "width": "335.111px"
   },
   "toc_section_display": true,
   "toc_window_display": true
  }
 },
 "nbformat": 4,
 "nbformat_minor": 5
}
